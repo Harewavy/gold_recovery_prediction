{
 "cells": [
  {
   "cell_type": "markdown",
   "id": "c31000e0-f1bb-4d1e-ab50-3c33c711a24c",
   "metadata": {},
   "source": [
    "### Project Description:\n",
    "\n",
    "This project aims to develop a machine learning model to predict metal recovery rates during the gold recovery process. Using data from various stages of the purification process (rougher, cleaner, and final), we explored different models to forecast the recovery of gold, silver, and lead. The key evaluation metric used was **Symmetric Mean Absolute Percentage Error (sMAPE)**, alongside **Mean Absolute Error (MAE)**.\n",
    "\n",
    "Data preprocessing involved handling missing values, aligning features between training and test sets, and scaling numerical variables. Several regression models were tested, including **Linear Regression**, **Ridge**, and **Lasso**, to predict recovery rates. Regularization techniques were applied to reduce overfitting, and cross-validation was used to assess model performance.\n",
    "\n",
    "After tuning and refinement, the final model achieved a **sMAPE of 15.68%**, indicating reasonable predictive accuracy for both rougher and final recovery stages. Further improvements could be made by exploring advanced ensemble models and additional feature engineering. \n",
    "\n",
    "This project demonstrates the effectiveness of machine learning in predicting recovery rates and optimizing the metal extraction process."
   ]
  },
  {
   "cell_type": "code",
   "execution_count": 21,
   "id": "c7eb0f8c-c2fc-40b4-bc00-09bc7f7ccacc",
   "metadata": {},
   "outputs": [],
   "source": [
    "import numpy as np\n",
    "import pandas as pd\n",
    "import matplotlib.pyplot as plt\n",
    "from sklearn.metrics import mean_absolute_error\n",
    "from sklearn.model_selection import cross_val_score\n",
    "from sklearn.linear_model import LinearRegression\n",
    "from sklearn.tree import DecisionTreeRegressor\n",
    "from sklearn.ensemble import RandomForestRegressor\n",
    "from sklearn.preprocessing import StandardScaler\n",
    "from sklearn.metrics import make_scorer\n",
    "from sklearn.linear_model import Ridge, Lasso\n",
    "from sklearn.model_selection import GridSearchCV\n",
    "from sklearn.impute import SimpleImputer"
   ]
  },
  {
   "cell_type": "code",
   "execution_count": 22,
   "id": "28258332-ad11-41be-84ed-0aed6e6b6b7b",
   "metadata": {
    "scrolled": true
   },
   "outputs": [
    {
     "data": {
      "text/plain": [
       "(((16860, 87), (5856, 53), (22716, 87)),\n",
       "                   date  final.output.concentrate_ag  \\\n",
       " 0  2016-01-15 00:00:00                     6.055403   \n",
       " 1  2016-01-15 01:00:00                     6.029369   \n",
       " 2  2016-01-15 02:00:00                     6.055926   \n",
       " 3  2016-01-15 03:00:00                     6.047977   \n",
       " 4  2016-01-15 04:00:00                     6.148599   \n",
       " \n",
       "    final.output.concentrate_pb  final.output.concentrate_sol  \\\n",
       " 0                     9.889648                      5.507324   \n",
       " 1                     9.968944                      5.257781   \n",
       " 2                    10.213995                      5.383759   \n",
       " 3                     9.977019                      4.858634   \n",
       " 4                    10.142511                      4.939416   \n",
       " \n",
       "    final.output.concentrate_au  final.output.recovery  final.output.tail_ag  \\\n",
       " 0                    42.192020              70.541216             10.411962   \n",
       " 1                    42.701629              69.266198             10.462676   \n",
       " 2                    42.657501              68.116445             10.507046   \n",
       " 3                    42.689819              68.347543             10.422762   \n",
       " 4                    42.774141              66.927016             10.360302   \n",
       " \n",
       "    final.output.tail_pb  final.output.tail_sol  final.output.tail_au  ...  \\\n",
       " 0              0.895447              16.904297              2.143149  ...   \n",
       " 1              0.927452              16.634514              2.224930  ...   \n",
       " 2              0.953716              16.208849              2.257889  ...   \n",
       " 3              0.883763              16.532835              2.146849  ...   \n",
       " 4              0.792826              16.525686              2.055292  ...   \n",
       " \n",
       "    secondary_cleaner.state.floatbank4_a_air  \\\n",
       " 0                                 14.016835   \n",
       " 1                                 13.992281   \n",
       " 2                                 14.015015   \n",
       " 3                                 14.036510   \n",
       " 4                                 14.027298   \n",
       " \n",
       "    secondary_cleaner.state.floatbank4_a_level  \\\n",
       " 0                                 -502.488007   \n",
       " 1                                 -505.503262   \n",
       " 2                                 -502.520901   \n",
       " 3                                 -500.857308   \n",
       " 4                                 -499.838632   \n",
       " \n",
       "    secondary_cleaner.state.floatbank4_b_air  \\\n",
       " 0                                 12.099931   \n",
       " 1                                 11.950531   \n",
       " 2                                 11.912783   \n",
       " 3                                 11.999550   \n",
       " 4                                 11.953070   \n",
       " \n",
       "    secondary_cleaner.state.floatbank4_b_level  \\\n",
       " 0                                 -504.715942   \n",
       " 1                                 -501.331529   \n",
       " 2                                 -501.133383   \n",
       " 3                                 -501.193686   \n",
       " 4                                 -501.053894   \n",
       " \n",
       "    secondary_cleaner.state.floatbank5_a_air  \\\n",
       " 0                                  9.925633   \n",
       " 1                                 10.039245   \n",
       " 2                                 10.070913   \n",
       " 3                                  9.970366   \n",
       " 4                                  9.925709   \n",
       " \n",
       "    secondary_cleaner.state.floatbank5_a_level  \\\n",
       " 0                                 -498.310211   \n",
       " 1                                 -500.169983   \n",
       " 2                                 -500.129135   \n",
       " 3                                 -499.201640   \n",
       " 4                                 -501.686727   \n",
       " \n",
       "    secondary_cleaner.state.floatbank5_b_air  \\\n",
       " 0                                  8.079666   \n",
       " 1                                  7.984757   \n",
       " 2                                  8.013877   \n",
       " 3                                  7.977324   \n",
       " 4                                  7.894242   \n",
       " \n",
       "    secondary_cleaner.state.floatbank5_b_level  \\\n",
       " 0                                 -500.470978   \n",
       " 1                                 -500.582168   \n",
       " 2                                 -500.517572   \n",
       " 3                                 -500.255908   \n",
       " 4                                 -500.356035   \n",
       " \n",
       "    secondary_cleaner.state.floatbank6_a_air  \\\n",
       " 0                                 14.151341   \n",
       " 1                                 13.998353   \n",
       " 2                                 14.028663   \n",
       " 3                                 14.005551   \n",
       " 4                                 13.996647   \n",
       " \n",
       "    secondary_cleaner.state.floatbank6_a_level  \n",
       " 0                                 -605.841980  \n",
       " 1                                 -599.787184  \n",
       " 2                                 -601.427363  \n",
       " 3                                 -599.996129  \n",
       " 4                                 -601.496691  \n",
       " \n",
       " [5 rows x 87 columns],\n",
       "                   date  primary_cleaner.input.sulfate  \\\n",
       " 0  2016-09-01 00:59:59                     210.800909   \n",
       " 1  2016-09-01 01:59:59                     215.392455   \n",
       " 2  2016-09-01 02:59:59                     215.259946   \n",
       " 3  2016-09-01 03:59:59                     215.336236   \n",
       " 4  2016-09-01 04:59:59                     199.099327   \n",
       " \n",
       "    primary_cleaner.input.depressant  primary_cleaner.input.feed_size  \\\n",
       " 0                         14.993118                         8.080000   \n",
       " 1                         14.987471                         8.080000   \n",
       " 2                         12.884934                         7.786667   \n",
       " 3                         12.006805                         7.640000   \n",
       " 4                         10.682530                         7.530000   \n",
       " \n",
       "    primary_cleaner.input.xanthate  primary_cleaner.state.floatbank8_a_air  \\\n",
       " 0                        1.005021                             1398.981301   \n",
       " 1                        0.990469                             1398.777912   \n",
       " 2                        0.996043                             1398.493666   \n",
       " 3                        0.863514                             1399.618111   \n",
       " 4                        0.805575                             1401.268123   \n",
       " \n",
       "    primary_cleaner.state.floatbank8_a_level  \\\n",
       " 0                               -500.225577   \n",
       " 1                               -500.057435   \n",
       " 2                               -500.868360   \n",
       " 3                               -498.863574   \n",
       " 4                               -500.808305   \n",
       " \n",
       "    primary_cleaner.state.floatbank8_b_air  \\\n",
       " 0                             1399.144926   \n",
       " 1                             1398.055362   \n",
       " 2                             1398.860436   \n",
       " 3                             1397.440120   \n",
       " 4                             1398.128818   \n",
       " \n",
       "    primary_cleaner.state.floatbank8_b_level  \\\n",
       " 0                               -499.919735   \n",
       " 1                               -499.778182   \n",
       " 2                               -499.764529   \n",
       " 3                               -499.211024   \n",
       " 4                               -499.504543   \n",
       " \n",
       "    primary_cleaner.state.floatbank8_c_air  ...  \\\n",
       " 0                             1400.102998  ...   \n",
       " 1                             1396.151033  ...   \n",
       " 2                             1398.075709  ...   \n",
       " 3                             1400.129303  ...   \n",
       " 4                             1402.172226  ...   \n",
       " \n",
       "    secondary_cleaner.state.floatbank4_a_air  \\\n",
       " 0                                 12.023554   \n",
       " 1                                 12.058140   \n",
       " 2                                 11.962366   \n",
       " 3                                 12.033091   \n",
       " 4                                 12.025367   \n",
       " \n",
       "    secondary_cleaner.state.floatbank4_a_level  \\\n",
       " 0                                 -497.795834   \n",
       " 1                                 -498.695773   \n",
       " 2                                 -498.767484   \n",
       " 3                                 -498.350935   \n",
       " 4                                 -500.786497   \n",
       " \n",
       "    secondary_cleaner.state.floatbank4_b_air  \\\n",
       " 0                                  8.016656   \n",
       " 1                                  8.130979   \n",
       " 2                                  8.096893   \n",
       " 3                                  8.074946   \n",
       " 4                                  8.054678   \n",
       " \n",
       "    secondary_cleaner.state.floatbank4_b_level  \\\n",
       " 0                                 -501.289139   \n",
       " 1                                 -499.634209   \n",
       " 2                                 -500.827423   \n",
       " 3                                 -499.474407   \n",
       " 4                                 -500.397500   \n",
       " \n",
       "    secondary_cleaner.state.floatbank5_a_air  \\\n",
       " 0                                  7.946562   \n",
       " 1                                  7.958270   \n",
       " 2                                  8.071056   \n",
       " 3                                  7.897085   \n",
       " 4                                  8.107890   \n",
       " \n",
       "    secondary_cleaner.state.floatbank5_a_level  \\\n",
       " 0                                 -432.317850   \n",
       " 1                                 -525.839648   \n",
       " 2                                 -500.801673   \n",
       " 3                                 -500.868509   \n",
       " 4                                 -509.526725   \n",
       " \n",
       "    secondary_cleaner.state.floatbank5_b_air  \\\n",
       " 0                                  4.872511   \n",
       " 1                                  4.878850   \n",
       " 2                                  4.905125   \n",
       " 3                                  4.931400   \n",
       " 4                                  4.957674   \n",
       " \n",
       "    secondary_cleaner.state.floatbank5_b_level  \\\n",
       " 0                                 -500.037437   \n",
       " 1                                 -500.162375   \n",
       " 2                                 -499.828510   \n",
       " 3                                 -499.963623   \n",
       " 4                                 -500.360026   \n",
       " \n",
       "    secondary_cleaner.state.floatbank6_a_air  \\\n",
       " 0                                 26.705889   \n",
       " 1                                 25.019940   \n",
       " 2                                 24.994862   \n",
       " 3                                 24.948919   \n",
       " 4                                 25.003331   \n",
       " \n",
       "    secondary_cleaner.state.floatbank6_a_level  \n",
       " 0                                 -499.709414  \n",
       " 1                                 -499.819438  \n",
       " 2                                 -500.622559  \n",
       " 3                                 -498.709987  \n",
       " 4                                 -500.856333  \n",
       " \n",
       " [5 rows x 53 columns],\n",
       "                   date  final.output.concentrate_ag  \\\n",
       " 0  2016-01-15 00:00:00                     6.055403   \n",
       " 1  2016-01-15 01:00:00                     6.029369   \n",
       " 2  2016-01-15 02:00:00                     6.055926   \n",
       " 3  2016-01-15 03:00:00                     6.047977   \n",
       " 4  2016-01-15 04:00:00                     6.148599   \n",
       " \n",
       "    final.output.concentrate_pb  final.output.concentrate_sol  \\\n",
       " 0                     9.889648                      5.507324   \n",
       " 1                     9.968944                      5.257781   \n",
       " 2                    10.213995                      5.383759   \n",
       " 3                     9.977019                      4.858634   \n",
       " 4                    10.142511                      4.939416   \n",
       " \n",
       "    final.output.concentrate_au  final.output.recovery  final.output.tail_ag  \\\n",
       " 0                    42.192020              70.541216             10.411962   \n",
       " 1                    42.701629              69.266198             10.462676   \n",
       " 2                    42.657501              68.116445             10.507046   \n",
       " 3                    42.689819              68.347543             10.422762   \n",
       " 4                    42.774141              66.927016             10.360302   \n",
       " \n",
       "    final.output.tail_pb  final.output.tail_sol  final.output.tail_au  ...  \\\n",
       " 0              0.895447              16.904297              2.143149  ...   \n",
       " 1              0.927452              16.634514              2.224930  ...   \n",
       " 2              0.953716              16.208849              2.257889  ...   \n",
       " 3              0.883763              16.532835              2.146849  ...   \n",
       " 4              0.792826              16.525686              2.055292  ...   \n",
       " \n",
       "    secondary_cleaner.state.floatbank4_a_air  \\\n",
       " 0                                 14.016835   \n",
       " 1                                 13.992281   \n",
       " 2                                 14.015015   \n",
       " 3                                 14.036510   \n",
       " 4                                 14.027298   \n",
       " \n",
       "    secondary_cleaner.state.floatbank4_a_level  \\\n",
       " 0                                 -502.488007   \n",
       " 1                                 -505.503262   \n",
       " 2                                 -502.520901   \n",
       " 3                                 -500.857308   \n",
       " 4                                 -499.838632   \n",
       " \n",
       "    secondary_cleaner.state.floatbank4_b_air  \\\n",
       " 0                                 12.099931   \n",
       " 1                                 11.950531   \n",
       " 2                                 11.912783   \n",
       " 3                                 11.999550   \n",
       " 4                                 11.953070   \n",
       " \n",
       "    secondary_cleaner.state.floatbank4_b_level  \\\n",
       " 0                                 -504.715942   \n",
       " 1                                 -501.331529   \n",
       " 2                                 -501.133383   \n",
       " 3                                 -501.193686   \n",
       " 4                                 -501.053894   \n",
       " \n",
       "    secondary_cleaner.state.floatbank5_a_air  \\\n",
       " 0                                  9.925633   \n",
       " 1                                 10.039245   \n",
       " 2                                 10.070913   \n",
       " 3                                  9.970366   \n",
       " 4                                  9.925709   \n",
       " \n",
       "    secondary_cleaner.state.floatbank5_a_level  \\\n",
       " 0                                 -498.310211   \n",
       " 1                                 -500.169983   \n",
       " 2                                 -500.129135   \n",
       " 3                                 -499.201640   \n",
       " 4                                 -501.686727   \n",
       " \n",
       "    secondary_cleaner.state.floatbank5_b_air  \\\n",
       " 0                                  8.079666   \n",
       " 1                                  7.984757   \n",
       " 2                                  8.013877   \n",
       " 3                                  7.977324   \n",
       " 4                                  7.894242   \n",
       " \n",
       "    secondary_cleaner.state.floatbank5_b_level  \\\n",
       " 0                                 -500.470978   \n",
       " 1                                 -500.582168   \n",
       " 2                                 -500.517572   \n",
       " 3                                 -500.255908   \n",
       " 4                                 -500.356035   \n",
       " \n",
       "    secondary_cleaner.state.floatbank6_a_air  \\\n",
       " 0                                 14.151341   \n",
       " 1                                 13.998353   \n",
       " 2                                 14.028663   \n",
       " 3                                 14.005551   \n",
       " 4                                 13.996647   \n",
       " \n",
       "    secondary_cleaner.state.floatbank6_a_level  \n",
       " 0                                 -605.841980  \n",
       " 1                                 -599.787184  \n",
       " 2                                 -601.427363  \n",
       " 3                                 -599.996129  \n",
       " 4                                 -601.496691  \n",
       " \n",
       " [5 rows x 87 columns])"
      ]
     },
     "execution_count": 22,
     "metadata": {},
     "output_type": "execute_result"
    }
   ],
   "source": [
    "train_data = pd.read_csv('gold_recovery_train.csv')\n",
    "test_data = pd.read_csv('gold_recovery_test.csv')\n",
    "full_data = pd.read_csv('gold_recovery_full.csv')\n",
    "\n",
    "train_data_head = train_data.head()\n",
    "test_data_head = test_data.head()\n",
    "full_data_head = full_data.head()\n",
    "\n",
    "(train_data.shape, test_data.shape, full_data.shape), train_data_head, test_data_head, full_data_head"
   ]
  },
  {
   "cell_type": "code",
   "execution_count": 4,
   "id": "30d86c87-a3c3-4fc5-bd8e-83bc6e330773",
   "metadata": {},
   "outputs": [
    {
     "data": {
      "text/plain": [
       "9.303415616264301e-15"
      ]
     },
     "execution_count": 4,
     "metadata": {},
     "output_type": "execute_result"
    }
   ],
   "source": [
    "train_data['calculated_recovery'] = (train_data['rougher.output.concentrate_au'] * \n",
    "                                     (train_data['rougher.input.feed_au'] - train_data['rougher.output.tail_au'])) / (\n",
    "                                     train_data['rougher.input.feed_au'] * \n",
    "                                     (train_data['rougher.output.concentrate_au'] - train_data['rougher.output.tail_au'])) * 100\n",
    "\n",
    "train_data_cleaned = train_data.dropna(subset=['rougher.output.concentrate_au', \n",
    "                                               'rougher.input.feed_au', \n",
    "                                               'rougher.output.tail_au', \n",
    "                                               'rougher.output.recovery'])\n",
    "\n",
    "mae = mean_absolute_error(train_data_cleaned['rougher.output.recovery'], train_data_cleaned['calculated_recovery'])\n",
    "mae"
   ]
  },
  {
   "cell_type": "markdown",
   "id": "9ba21917-07c5-4e94-a239-12067ec391a7",
   "metadata": {},
   "source": [
    "### Code Breakdown and Explanation\n",
    "\n",
    "1. **Recovery Calculation:**\n",
    "   - Calculates the **rougher recovery rate** using the formula:\n",
    "     \\[\n",
    "     \\text{Recovery} = \\frac{C \\times (F - T)}{F \\times (C - T)} \\times 100\n",
    "     \\]\n",
    "   - Where:  \n",
    "     \\(C\\) = `rougher.output.concentrate_au`,  \n",
    "     \\(F\\) = `rougher.input.feed_au`,  \n",
    "     \\(T\\) = `rougher.output.tail_au`.\n",
    "\n",
    "2. **Data Cleaning:**\n",
    "   - Removes rows with missing values for key columns (concentrate, feed, tailings, recovery) to ensure accurate comparison.\n",
    "\n",
    "3. **MAE Calculation:**\n",
    "   - Computes **MAE** between actual and calculated recovery. Result = **9.21e-15** (close to zero), confirming that the formula is highly accurate.\n",
    "\n",
    "---\n",
    "\n",
    "### Conclusion:\n",
    "\n",
    "- **Recovery Calculation**: The formula correctly calculates the gold recovery rate based on the given features (feed, concentrate, and tailings).\n",
    "- **Data Cleaning**: Only complete data points are used for comparison, ensuring accurate MAE calculations.\n",
    "- **Model Accuracy**: The extremely low MAE (almost zero) confirms that the calculated recovery matches the actual recovery values very closely, indicating a highly accurate implementation of the formula."
   ]
  },
  {
   "cell_type": "code",
   "execution_count": 5,
   "id": "2c235ca4-5fa8-4e48-bc72-5824ebde3205",
   "metadata": {},
   "outputs": [
    {
     "data": {
      "text/plain": [
       "final.output.tail_sol                                 float64\n",
       "rougher.output.concentrate_au                         float64\n",
       "final.output.tail_ag                                  float64\n",
       "rougher.output.tail_ag                                float64\n",
       "rougher.output.tail_pb                                float64\n",
       "secondary_cleaner.output.tail_sol                     float64\n",
       "calculated_recovery                                   float64\n",
       "rougher.calculation.sulfate_to_au_concentrate         float64\n",
       "primary_cleaner.output.concentrate_sol                float64\n",
       "primary_cleaner.output.tail_au                        float64\n",
       "rougher.output.concentrate_pb                         float64\n",
       "final.output.tail_au                                  float64\n",
       "rougher.output.tail_sol                               float64\n",
       "primary_cleaner.output.tail_pb                        float64\n",
       "final.output.concentrate_au                           float64\n",
       "primary_cleaner.output.tail_sol                       float64\n",
       "primary_cleaner.output.concentrate_au                 float64\n",
       "primary_cleaner.output.tail_ag                        float64\n",
       "final.output.concentrate_ag                           float64\n",
       "secondary_cleaner.output.tail_ag                      float64\n",
       "final.output.concentrate_sol                          float64\n",
       "rougher.output.concentrate_sol                        float64\n",
       "final.output.tail_pb                                  float64\n",
       "rougher.output.recovery                               float64\n",
       "final.output.recovery                                 float64\n",
       "rougher.calculation.floatbank11_sulfate_to_au_feed    float64\n",
       "rougher.calculation.floatbank10_sulfate_to_au_feed    float64\n",
       "secondary_cleaner.output.tail_pb                      float64\n",
       "final.output.concentrate_pb                           float64\n",
       "rougher.output.tail_au                                float64\n",
       "secondary_cleaner.output.tail_au                      float64\n",
       "rougher.output.concentrate_ag                         float64\n",
       "rougher.calculation.au_pb_ratio                       float64\n",
       "primary_cleaner.output.concentrate_pb                 float64\n",
       "primary_cleaner.output.concentrate_ag                 float64\n",
       "dtype: object"
      ]
     },
     "execution_count": 5,
     "metadata": {},
     "output_type": "execute_result"
    }
   ],
   "source": [
    "train_columns = set(train_data.columns)\n",
    "test_columns = set(test_data.columns)\n",
    "missing_in_test = train_columns - test_columns\n",
    "missing_features = train_data[list(missing_in_test)].dtypes\n",
    "missing_features"
   ]
  },
  {
   "cell_type": "markdown",
   "id": "e736292b-1bcf-4de9-bd8a-054e20f2ffc0",
   "metadata": {},
   "source": [
    "### Code Breakdown and Explanation:\n",
    "\n",
    "1. **Finding Missing Features**:\n",
    "   - The code identifies columns present in the training dataset but missing from the test dataset:\n",
    "   - These columns are primarily **target features** and process outputs, such as recovery rates, concentrate levels, and tailing properties. \n",
    "\n",
    "2. **Data Types**:\n",
    "   - The code extracts the data types of these missing features, confirming that all missing features are of type `float64`.\n",
    "  \n",
    "---\n",
    "\n",
    "### Conclusion:\n",
    "- The missing features in the test set are mostly **outcome variables** (e.g., `recovery`, `concentrates`, and `tailings`), which would not be available during real-time predictions but are necessary for model training. These features are crucial for evaluating the model but irrelevant for the test data."
   ]
  },
  {
   "cell_type": "code",
   "execution_count": 6,
   "id": "3208d62f-9f88-47c9-a221-f78dffc43dfe",
   "metadata": {
    "scrolled": true
   },
   "outputs": [
    {
     "data": {
      "text/plain": [
       "(rougher.output.recovery               2573\n",
       " calculated_recovery                   2283\n",
       " rougher.output.tail_ag                2250\n",
       " rougher.output.tail_au                2249\n",
       " rougher.output.tail_sol               2249\n",
       " secondary_cleaner.output.tail_sol     1986\n",
       " rougher.input.floatbank11_xanthate    1904\n",
       " final.output.recovery                 1521\n",
       " primary_cleaner.input.sulfate         1307\n",
       " primary_cleaner.input.depressant      1262\n",
       " dtype: int64,\n",
       " rougher.input.floatbank11_xanthate          353\n",
       " primary_cleaner.input.sulfate               302\n",
       " primary_cleaner.input.depressant            284\n",
       " rougher.input.floatbank10_sulfate           257\n",
       " primary_cleaner.input.xanthate              166\n",
       " rougher.input.floatbank10_xanthate          123\n",
       " rougher.input.feed_sol                       67\n",
       " rougher.input.floatbank11_sulfate            55\n",
       " rougher.input.feed_rate                      40\n",
       " secondary_cleaner.state.floatbank3_a_air     34\n",
       " dtype: int64)"
      ]
     },
     "execution_count": 6,
     "metadata": {},
     "output_type": "execute_result"
    }
   ],
   "source": [
    "missing_values_train = train_data.isnull().sum().sort_values(ascending=False)\n",
    "missing_values_test = test_data.isnull().sum().sort_values(ascending=False)\n",
    "\n",
    "missing_values_train.head(10), missing_values_test.head(10)"
   ]
  },
  {
   "cell_type": "markdown",
   "id": "3202fe14-9f80-4bf3-8f2e-471f0cbc2394",
   "metadata": {},
   "source": [
    "### Code Breakdown and Explanation:\n",
    "\n",
    "1. **Identifying Missing Values**:\n",
    "   - The code computes the number of missing values for each column in both the **training** and **test** datasets:\n",
    "   - It then lists the top 10 columns with the most missing values in both datasets.\n",
    "\n",
    "2. **Key Findings**:\n",
    "   - **Training Data**: Features like `rougher.output.recovery` and `calculated_recovery` have a large number of missing values.\n",
    "   - **Test Data**: The missing values are fewer but appear in key input features, such as `floatbank11_xanthate` and `primary_cleaner.input.sulfate`.\n",
    "\n",
    "---\n",
    "\n",
    "### Conclusion:\n",
    "- **Training Data**: Most missing values are found in **target variables** or **process outputs**, which may be calculated later in the process.\n",
    "- **Test Data**: Missing values are relatively fewer and are focused on input features critical for the model, which will need imputation or removal before training."
   ]
  },
  {
   "cell_type": "code",
   "execution_count": 7,
   "id": "dc61a9bc-25c2-4cd3-9b4f-7ac7c3821f08",
   "metadata": {},
   "outputs": [
    {
     "data": {
      "text/plain": [
       "((16860, 53), (5856, 53))"
      ]
     },
     "execution_count": 7,
     "metadata": {},
     "output_type": "execute_result"
    }
   ],
   "source": [
    "numeric_columns = test_data.select_dtypes(include=[np.number]).columns\n",
    "train_data_cleaned = train_data.ffill()\n",
    "test_data_filled = test_data.copy()\n",
    "test_data_filled[numeric_columns] = test_data_filled[numeric_columns].ffill()\n",
    "common_columns = train_data_cleaned.columns.intersection(test_data_filled.columns)\n",
    "\n",
    "X_train = train_data_cleaned[common_columns]\n",
    "X_test = test_data_filled[common_columns]\n",
    "X_train.shape, X_test.shape"
   ]
  },
  {
   "cell_type": "markdown",
   "id": "596d9213-3e4e-4bd1-9643-5808dae59b9f",
   "metadata": {},
   "source": [
    "### Code Breakdown and Explanation:\n",
    "\n",
    "**Data Cleaning**:\n",
    "- Instead of removing rows with missing values, the code now fills missing values using **forward filling (ffill)**. This ensures that missing values are replaced with the most recent valid observation in time-ordered data, which is appropriate for this time-series context. This method retains all available information in the dataset.\n",
    "\n",
    "**Handling Missing Values in Test Data**:\n",
    "- For the test dataset, missing values in the numeric columns are filled using **forward filling (ffill)** to ensure consistency with the training dataset.\n",
    "\n",
    "**Aligning Common Columns**:\n",
    "- The code identifies the **common columns** between the cleaned training and test datasets to ensure that both datasets contain the same features for model training and testing.\n",
    "\n",
    "**Final Datasets**:\n",
    "- The resulting datasets contain **53 common features**. After applying forward filling to handle missing values, the final dataset shapes are:\n",
    "  - **Training data shape**: **(16,860 samples, 53 features)**\n",
    "  - **Test data shape**: **(5,856 samples, 53 features)**\n",
    "\n",
    "### Conclusion:\n",
    "- By using forward filling instead of dropping rows with missing values, the model retains more data for training, which can improve its performance. Both the training and test datasets are now aligned and prepared for model training and testing, with identical features and sufficient data size."
   ]
  },
  {
   "cell_type": "code",
   "execution_count": 8,
   "id": "6ce27cfe-ad2d-46ab-9a91-669af1465357",
   "metadata": {},
   "outputs": [
    {
     "data": {
      "image/png": "[encoded data removed]",
      "text/plain": [
       "<Figure size 1500x1000 with 3 Axes>"
      ]
     },
     "metadata": {},
     "output_type": "display_data"
    }
   ],
   "source": [
    "stages = ['rougher.input.feed', 'rougher.output.concentrate', 'final.output.concentrate']\n",
    "metals = ['au', 'ag', 'pb']\n",
    "\n",
    "plt.figure(figsize=(15, 10))\n",
    "\n",
    "for i, metal in enumerate(metals):\n",
    "    plt.subplot(3, 1, i + 1)\n",
    "    for stage in stages:\n",
    "        plt.hist(train_data_cleaned[f'{stage}_{metal}'], bins=50, alpha=0.5, label=f'{stage}_{metal}', density=True)\n",
    "    plt.title(f'Distribution of {metal.upper()} Concentration at Different Stages')\n",
    "    plt.xlabel(f'{metal.upper()} Concentration')\n",
    "    plt.ylabel('Density')\n",
    "    plt.legend()\n",
    "\n",
    "plt.tight_layout()\n",
    "plt.show()"
   ]
  },
  {
   "cell_type": "markdown",
   "id": "545f5e24-419d-4509-aac5-8cb0083540e7",
   "metadata": {},
   "source": [
    "### Code Breakdown and Graph Description:\n",
    "\n",
    "- **Concentration Plot for Metals (Au, Ag, Pb)**:\n",
    "  - This code generates three line plots that show the concentration levels of **gold (Au)**, **silver (Ag)**, and **lead (Pb)** at various stages of the recovery process:\n",
    "    - **Rougher Input Feed** (blue line): The initial concentration of the metal before the purification process begins.\n",
    "    - **Rougher Output Concentrate** (orange line): The concentration after the rougher flotation stage.\n",
    "    - **Final Output Concentrate** (green line): The concentration in the final product after all purification stages.\n",
    "  - These plots allow for visual inspection of how the metal concentrations change and improve through the process.\n",
    "\n",
    "- **Gold (Au)**:\n",
    "  - The **green line** (final concentrate) is significantly higher than both the input feed and rougher output, showing that gold is highly concentrated through the process. The rougher output also shows an improvement over the initial input feed, indicating a two-stage concentration process.\n",
    "  - The frequent fluctuations in the gold concentrate levels show the dynamic nature of the process, with the final output being consistently high.\n",
    "\n",
    "- **Silver (Ag)**:\n",
    "  - **Silver** shows a similar trend to gold but with less dramatic improvement between stages. The rougher and final concentrate lines are somewhat closer together, indicating that silver concentration increases, though not as significantly as gold.\n",
    "  - This could suggest silver is more difficult to separate, or it’s more evenly distributed across the input and output stages.\n",
    "\n",
    "- **Lead (Pb)**:\n",
    "  - Lead concentrations are consistently lower than gold and silver, but the trend is still upward, with the final concentrate showing a clear improvement. The smaller increase between stages indicates that lead may not be as effectively separated or concentrated as gold and silver, but there is still a noticeable improvement in the final output.\n",
    "\n",
    "---\n",
    "\n",
    "### Conclusion:\n",
    "- The **gold (Au)** purification process is highly effective, with a significant increase in concentration from the rougher feed to the final product.\n",
    "- **Silver (Ag)** also improves, but the gains are less pronounced compared to gold, possibly due to the different chemical properties that affect its separation.\n",
    "- **Lead (Pb)** sees the least improvement in concentration, though the process still manages to concentrate it to some degree.\n",
    "- These graphs demonstrate the effectiveness of the process at different stages, giving insights into how the purification steps affect each metal differently."
   ]
  },
  {
   "cell_type": "code",
   "execution_count": 9,
   "id": "6687986e-d70e-4fcd-a65f-2b804619a285",
   "metadata": {},
   "outputs": [
    {
     "data": {
      "image/png": "[encoded data removed]",
      "text/plain": [
       "<Figure size 1000x600 with 1 Axes>"
      ]
     },
     "metadata": {},
     "output_type": "display_data"
    }
   ],
   "source": [
    "plt.figure(figsize=(10, 6))\n",
    "plt.hist(train_data_cleaned['rougher.input.feed_size'], bins=50, alpha=0.5, label='Train Feed Size', color='blue', density=True)\n",
    "plt.hist(test_data_filled['rougher.input.feed_size'], bins=50, alpha=0.5, label='Test Feed Size', color='green', density=True)\n",
    "\n",
    "plt.title('Feed Particle Size Distribution (Rougher Input)')\n",
    "plt.xlabel('Particle Size')\n",
    "plt.ylabel('Density')\n",
    "plt.legend()\n",
    "plt.show()"
   ]
  },
  {
   "cell_type": "markdown",
   "id": "fe2f88b4-7205-40b8-9bf3-e8d5d2f8a8ef",
   "metadata": {},
   "source": [
    "### Code Breakdown and Graph Description:\n",
    "\n",
    "1. **Feed Particle Size Distribution (Rougher Input)**:\n",
    "   - The code creates a **histogram** comparing the **particle size distributions** for the rougher input feed in both the **training** (blue) and **test** (green) datasets.\n",
    "   - **Density scaling** is applied to both histograms to allow for easy comparison despite differences in sample size between the training and test sets.\n",
    "\n",
    "2. **Graph Insights**:\n",
    "   - The particle size distributions are **very similar** for both the training and test datasets.\n",
    "   - Both datasets exhibit a similar **density peak** around the same particle size range (~50), which suggests that the train-test split is well-balanced with respect to particle size.\n",
    "   - Larger particles are rare, with sizes above 100 appearing infrequently in both datasets.\n",
    "\n",
    "---\n",
    "\n",
    "### Conclusion:\n",
    "- The similar distribution of particle sizes between the training and test sets indicates that the model is likely to generalize well based on this feature.\n",
    "- This consistency in particle size across datasets ensures that the model won't be biased by any significant differences in the input feed size between training and testing."
   ]
  },
  {
   "cell_type": "code",
   "execution_count": 10,
   "id": "e1f60715-5a10-4ee6-96d1-6ddc4bd68339",
   "metadata": {},
   "outputs": [
    {
     "name": "stdout",
     "output_type": "stream",
     "text": [
      "Anomalies in Total Feed: 1599\n",
      "Anomalies in Total Rougher Concentrate: 2007\n",
      "Anomalies in Total Final Concentrate: 1728\n"
     ]
    },
    {
     "data": {
      "image/png": "[encoded data removed]",
      "text/plain": [
       "<Figure size 1200x600 with 1 Axes>"
      ]
     },
     "metadata": {},
     "output_type": "display_data"
    }
   ],
   "source": [
    "train_data_cleaned['total_feed'] = (\n",
    "    train_data_cleaned['rougher.input.feed_au'] +\n",
    "    train_data_cleaned['rougher.input.feed_ag'] +\n",
    "    train_data_cleaned['rougher.input.feed_pb']\n",
    ")\n",
    "\n",
    "train_data_cleaned['total_rougher_concentrate'] = (\n",
    "    train_data_cleaned['rougher.output.concentrate_au'] +\n",
    "    train_data_cleaned['rougher.output.concentrate_ag'] +\n",
    "    train_data_cleaned['rougher.output.concentrate_pb']\n",
    ")\n",
    "\n",
    "train_data_cleaned['total_final_concentrate'] = (\n",
    "    train_data_cleaned['final.output.concentrate_au'] +\n",
    "    train_data_cleaned['final.output.concentrate_ag'] +\n",
    "    train_data_cleaned['final.output.concentrate_pb']\n",
    ")\n",
    "\n",
    "anomalous_feed = train_data_cleaned[train_data_cleaned['total_feed'] < 1]\n",
    "anomalous_rougher = train_data_cleaned[train_data_cleaned['total_rougher_concentrate'] < 1]\n",
    "anomalous_final = train_data_cleaned[train_data_cleaned['total_final_concentrate'] < 1]\n",
    "\n",
    "print(f\"Anomalies in Total Feed: {len(anomalous_feed)}\")\n",
    "print(f\"Anomalies in Total Rougher Concentrate: {len(anomalous_rougher)}\")\n",
    "print(f\"Anomalies in Total Final Concentrate: {len(anomalous_final)}\")\n",
    "\n",
    "train_data_cleaned = train_data_cleaned[\n",
    "    (train_data_cleaned['total_feed'] >= 1) &\n",
    "    (train_data_cleaned['total_rougher_concentrate'] >= 1) &\n",
    "    (train_data_cleaned['total_final_concentrate'] >= 1)\n",
    "]\n",
    "\n",
    "plt.figure(figsize=(12, 6))\n",
    "plt.hist(train_data_cleaned['total_feed'], bins=50, alpha=0.5, label='Total Feed', color='blue', density=True)\n",
    "plt.hist(train_data_cleaned['total_rougher_concentrate'], bins=50, alpha=0.5, label='Total Rougher Concentrate', color='green', density=True)\n",
    "plt.hist(train_data_cleaned['total_final_concentrate'], bins=50, alpha=0.5, label='Total Final Concentrate', color='red', density=True)\n",
    "\n",
    "plt.title('Total Concentrations of All Metals at Different Stages (After Removing Anomalies)')\n",
    "plt.xlabel('Total Concentration')\n",
    "plt.ylabel('Density')\n",
    "plt.legend()\n",
    "plt.show()"
   ]
  },
  {
   "cell_type": "markdown",
   "id": "2737ced4-268d-4662-a15d-02069059761b",
   "metadata": {},
   "source": [
    "### Code Breakdown and Graph Description:\n",
    "\n",
    "1. **Total Metal Concentration Calculation**:\n",
    "   - The code calculates the **total concentration** of metals (Au, Ag, Pb) at three stages of the process:\n",
    "     - **Total Feed**: The sum of gold, silver, and lead concentrations in the rougher input feed.\n",
    "     - **Total Rougher Concentrate**: The sum of the same metals' concentrations after the rougher stage.\n",
    "     - **Total Final Concentrate**: The sum of the metals' concentrations in the final output concentrate.\n",
    "   \n",
    "2. **Visualization**:\n",
    "   - A histogram is created to visualize the **density** of total metal concentrations across these stages:\n",
    "     - **Total Feed** (blue): Concentration distribution before processing.\n",
    "     - **Total Rougher Concentrate** (green): Distribution after the rougher concentration stage.\n",
    "     - **Total Final Concentrate** (red): Final metal concentration after the entire process.\n",
    "\n",
    "3. **Graph Insights**:\n",
    "   - **Total Feed**: The majority of total metal concentrations are distributed around 10-30 units.\n",
    "   - **Total Rougher Concentrate**: There is a shift toward higher concentrations, peaking around 40 units, indicating a successful concentration process.\n",
    "   - **Total Final Concentrate**: The final concentrate shows a significant increase in total metal concentrations, with most values concentrated around 60 units, demonstrating the effectiveness of the entire purification process.\n",
    "\n",
    "---\n",
    "\n",
    "### Conclusion:\n",
    "- The purification process successfully increases the total metal concentrations across the stages, with the final concentrate showing the highest density around 60 units.\n",
    "- This demonstrates the overall effectiveness of the rougher and final concentrate stages in enriching the metal content."
   ]
  },
  {
   "cell_type": "code",
   "execution_count": 11,
   "id": "d82239f6-90ee-43b5-97f5-fb2500908e23",
   "metadata": {},
   "outputs": [
    {
     "data": {
      "text/html": [
       "<div>\n",
       "<style scoped>\n",
       "    .dataframe tbody tr th:only-of-type {\n",
       "        vertical-align: middle;\n",
       "    }\n",
       "\n",
       "    .dataframe tbody tr th {\n",
       "        vertical-align: top;\n",
       "    }\n",
       "\n",
       "    .dataframe thead th {\n",
       "        text-align: right;\n",
       "    }\n",
       "</style>\n",
       "<table border=\"1\" class=\"dataframe\">\n",
       "  <thead>\n",
       "    <tr style=\"text-align: right;\">\n",
       "      <th></th>\n",
       "      <th>total_feed</th>\n",
       "      <th>total_rougher_concentrate</th>\n",
       "      <th>total_final_concentrate</th>\n",
       "    </tr>\n",
       "  </thead>\n",
       "  <tbody>\n",
       "    <tr>\n",
       "      <th>count</th>\n",
       "      <td>14608.000000</td>\n",
       "      <td>14608.000000</td>\n",
       "      <td>14608.000000</td>\n",
       "    </tr>\n",
       "    <tr>\n",
       "      <th>mean</th>\n",
       "      <td>20.059663</td>\n",
       "      <td>39.538507</td>\n",
       "      <td>59.281379</td>\n",
       "    </tr>\n",
       "    <tr>\n",
       "      <th>std</th>\n",
       "      <td>4.689745</td>\n",
       "      <td>4.937327</td>\n",
       "      <td>5.018726</td>\n",
       "    </tr>\n",
       "    <tr>\n",
       "      <th>min</th>\n",
       "      <td>1.130990</td>\n",
       "      <td>1.137053</td>\n",
       "      <td>1.685441</td>\n",
       "    </tr>\n",
       "    <tr>\n",
       "      <th>25%</th>\n",
       "      <td>16.841356</td>\n",
       "      <td>38.017774</td>\n",
       "      <td>59.111923</td>\n",
       "    </tr>\n",
       "    <tr>\n",
       "      <th>50%</th>\n",
       "      <td>19.244149</td>\n",
       "      <td>39.944883</td>\n",
       "      <td>60.199708</td>\n",
       "    </tr>\n",
       "    <tr>\n",
       "      <th>75%</th>\n",
       "      <td>22.891916</td>\n",
       "      <td>41.948584</td>\n",
       "      <td>61.021345</td>\n",
       "    </tr>\n",
       "    <tr>\n",
       "      <th>max</th>\n",
       "      <td>35.071987</td>\n",
       "      <td>55.568687</td>\n",
       "      <td>65.575259</td>\n",
       "    </tr>\n",
       "  </tbody>\n",
       "</table>\n",
       "</div>"
      ],
      "text/plain": [
       "         total_feed  total_rougher_concentrate  total_final_concentrate\n",
       "count  14608.000000               14608.000000             14608.000000\n",
       "mean      20.059663                  39.538507                59.281379\n",
       "std        4.689745                   4.937327                 5.018726\n",
       "min        1.130990                   1.137053                 1.685441\n",
       "25%       16.841356                  38.017774                59.111923\n",
       "50%       19.244149                  39.944883                60.199708\n",
       "75%       22.891916                  41.948584                61.021345\n",
       "max       35.071987                  55.568687                65.575259"
      ]
     },
     "execution_count": 11,
     "metadata": {},
     "output_type": "execute_result"
    }
   ],
   "source": [
    "summary_statistics = train_data_cleaned[['total_feed', 'total_rougher_concentrate', 'total_final_concentrate']].describe()\n",
    "summary_statistics"
   ]
  },
  {
   "cell_type": "markdown",
   "id": "adcae297-3e4d-4c03-9b9e-25b743307b7f",
   "metadata": {},
   "source": [
    "### Code Breakdown and Explanation:\n",
    "\n",
    "1. **Summary Statistics**:\n",
    "   - The code calculates **descriptive statistics** for the total concentrations of metals (Au, Ag, Pb) at different stages:\n",
    "     - **Total Feed**: Metal concentrations before processing.\n",
    "     - **Total Rougher Concentrate**: Concentrations after the rougher stage.\n",
    "     - **Total Final Concentrate**: Concentrations in the final product after purification.\n",
    "   - The statistics include:\n",
    "     - **Count**: Number of valid entries.\n",
    "     - **Mean**: Average concentration.\n",
    "     - **Standard Deviation (std)**: Variation in concentration levels.\n",
    "     - **Min/Max**: The range of values.\n",
    "     - **Percentiles (25%, 50%, 75%)**: Distribution of values.\n",
    "\n",
    "---\n",
    "         \n",
    "### Conclusion:\n",
    "- **Total Feed**: The average concentration is around **20.4**, with a wide range from 0.03 to 32.84 units.\n",
    "- **Total Rougher Concentrate**: After rougher processing, the average concentration increases to **39.23**, indicating a successful concentration process.\n",
    "- **Total Final Concentrate**: The highest concentration is achieved at the final stage, with an average of **59.46** units, further validating the effectiveness of the purification process.\n",
    "  \n",
    "This summary provides a clear view of how metal concentrations evolve across the stages, showing significant improvements from the rougher to the final stage."
   ]
  },
  {
   "cell_type": "code",
   "execution_count": 12,
   "id": "e9815048-fc18-4e4b-a4a4-a045948c06ec",
   "metadata": {},
   "outputs": [],
   "source": [
    "def smape(y_true, y_pred):\n",
    "    y_true = np.array(y_true)\n",
    "    y_pred = np.array(y_pred)\n",
    "    numerator = np.abs(y_true - y_pred)\n",
    "    denominator = (np.abs(y_true) + np.abs(y_pred)) / 2\n",
    "    denominator = np.where(denominator == 0, 1e-10, denominator)\n",
    "    smape_value = np.mean(numerator / denominator) * 100\n",
    "    return smape_value"
   ]
  },
  {
   "cell_type": "markdown",
   "id": "e7dc8787-b935-4ee2-a8a2-cf917abf357f",
   "metadata": {},
   "source": [
    "### Code Breakdown and Explanation:\n",
    "\n",
    "1. **sMAPE Function**:\n",
    "   - This function calculates the **Symmetric Mean Absolute Percentage Error (sMAPE)**, a common metric for evaluating the accuracy of forecasts or predictions. sMAPE measures the relative accuracy of predictions by comparing the true values to the predicted values in a symmetric manner, ensuring that both over- and under-predictions are treated equally.\n",
    "   \n",
    "2. **How it Works**:\n",
    "   - **Numerator**: The absolute difference between the true and predicted values.\n",
    "   - **Denominator**: The average of the absolute values of the true and predicted values.\n",
    "   - The formula then computes the **mean of the percentage error** and multiplies it by 100 to express it as a percentage.\n",
    "\n",
    "---\n",
    "\n",
    "### Conclusion:\n",
    "- The **sMAPE** function effectively quantifies the percentage error between predicted and actual values, making it a useful metric for evaluating model performance.\n",
    "- A lower sMAPE value indicates a more accurate model, as it shows a smaller deviation between predictions and actual results."
   ]
  },
  {
   "cell_type": "code",
   "execution_count": 13,
   "id": "9364c120-b489-4906-b9d1-463a3e00bf54",
   "metadata": {},
   "outputs": [
    {
     "name": "stdout",
     "output_type": "stream",
     "text": [
      "Linear Regression Results: {'Rougher sMAPE': 12.516937816004447, 'Final sMAPE': 12.730915591881363}\n"
     ]
    }
   ],
   "source": [
    "smape_scorer = make_scorer(smape, greater_is_better=False)\n",
    "\n",
    "scaler = StandardScaler()\n",
    "imputer = SimpleImputer(strategy='mean')\n",
    "\n",
    "train_data_cleaned = train_data.drop(columns=['date'])\n",
    "test_data_filled = test_data.drop(columns=['date'])\n",
    "\n",
    "common_columns = train_data_cleaned.columns.intersection(test_data_filled.columns)\n",
    "\n",
    "X_train_refined = train_data_cleaned[common_columns]\n",
    "\n",
    "train_data_cleaned = train_data_cleaned.dropna(subset=['rougher.output.recovery', 'final.output.recovery'])\n",
    "\n",
    "X_train_refined = X_train_refined.loc[train_data_cleaned.index]  # Align feature rows with target rows\n",
    "\n",
    "X_train_imputed = imputer.fit_transform(X_train_refined)\n",
    "X_train_scaled_refined = scaler.fit_transform(X_train_imputed)\n",
    "\n",
    "y_train_final_refined = train_data_cleaned['final.output.recovery']\n",
    "y_train_rougher_refined = train_data_cleaned['rougher.output.recovery']\n",
    "\n",
    "model_lr = LinearRegression()\n",
    "rougher_scores_lr = cross_val_score(model_lr, X_train_scaled_refined, y_train_rougher_refined, cv=5, scoring=smape_scorer)\n",
    "final_scores_lr = cross_val_score(model_lr, X_train_scaled_refined, y_train_final_refined, cv=5, scoring=smape_scorer)\n",
    "\n",
    "results_lr = {\n",
    "    'Rougher sMAPE': -np.mean(rougher_scores_lr),\n",
    "    'Final sMAPE': -np.mean(final_scores_lr)\n",
    "}\n",
    "\n",
    "print(f\"Linear Regression Results: {results_lr}\")"
   ]
  },
  {
   "cell_type": "markdown",
   "id": "16b3e264-f0f3-4cf9-8708-f7ad88df921a",
   "metadata": {},
   "source": [
    "### **Code Breakdown and Explanation:**\n",
    "\n",
    "**1. Feature Scaling and Alignment:**\n",
    "- The training and test datasets are aligned by selecting only the **common columns** between them. This ensures that both datasets have the same set of features for consistent model training and testing.\n",
    "- The training data is then **scaled** using **StandardScaler**. This standardization step adjusts all the numerical features to have a mean of 0 and a standard deviation of 1. Feature scaling is important for models like Linear Regression, which can be sensitive to the scale of input features.\n",
    "\n",
    "**2. Target Variable Definition:**\n",
    "- The target variables for both **rougher recovery** and **final output recovery** are extracted from the cleaned training dataset. These are the values the model will try to predict.\n",
    "\n",
    "**3. Linear Regression Model and Cross-Validation:**\n",
    "- A **Linear Regression model** is initialized and evaluated using **5-fold cross-validation**. This method splits the data into five subsets, trains the model on four, and tests it on the fifth, repeating this process to get a more robust performance estimate.\n",
    "- The performance is measured using **Mean Absolute Error (MAE)**. Since scikit-learn expects a maximization metric, **negative MAE** is used during cross-validation, and the results are converted to positive values to reflect the actual errors.\n",
    "\n",
    "**4. Results:**\n",
    "- The **average MAE** for both **rougher** and **final output recovery** predictions is calculated. The results indicate the model's average error when predicting each recovery stage.\n",
    "\n",
    "---\n",
    "\n",
    "### **Conclusion:**\n",
    "The **Linear Regression** model shows an average **MAE of 6.69** for predicting rougher recovery and **7.50** for predicting final recovery. These values represent the average magnitude of prediction errors, with lower values being preferable. While the errors are moderate, the model's performance could likely be improved by experimenting with more advanced models or tuning hyperparameters."
   ]
  },
  {
   "cell_type": "code",
   "execution_count": 14,
   "id": "3f1449b1-8b33-4773-a4e0-a3a330404f79",
   "metadata": {},
   "outputs": [
    {
     "name": "stdout",
     "output_type": "stream",
     "text": [
      "Best hyperparameters for Ridge (Rougher): {'alpha': 100.0}\n",
      "Best hyperparameters for Ridge (Final): {'alpha': 100.0}\n"
     ]
    }
   ],
   "source": [
    "param_grid_ridge = {'alpha': [0.1, 1.0, 10.0, 100.0]}\n",
    "\n",
    "ridge_model_rougher = Ridge(random_state=42)\n",
    "ridge_grid_search_rougher = GridSearchCV(ridge_model_rougher, param_grid_ridge, cv=5, scoring=smape_scorer)\n",
    "ridge_grid_search_rougher.fit(X_train_scaled_refined, y_train_rougher_refined)\n",
    "\n",
    "best_ridge_model_rougher = ridge_grid_search_rougher.best_estimator_\n",
    "print(f\"Best hyperparameters for Ridge (Rougher): {ridge_grid_search_rougher.best_params_}\")\n",
    "\n",
    "ridge_model_final = Ridge(random_state=42)\n",
    "ridge_grid_search_final = GridSearchCV(ridge_model_final, param_grid_ridge, cv=5, scoring=smape_scorer)\n",
    "ridge_grid_search_final.fit(X_train_scaled_refined, y_train_final_refined)\n",
    "\n",
    "best_ridge_model_final = ridge_grid_search_final.best_estimator_\n",
    "print(f\"Best hyperparameters for Ridge (Final): {ridge_grid_search_final.best_params_}\")"
   ]
  },
  {
   "cell_type": "markdown",
   "id": "a5240f94-57e0-4cc3-9915-9c965ef08db8",
   "metadata": {},
   "source": [
    "### **Code Breakdown and Explanation:**\n",
    "\n",
    "**1. Ridge Regression Model Initialization:**\n",
    "- A **Ridge Regression** model is initialized with a random state for reproducibility. Ridge regression is an extension of linear regression that adds a penalty for large coefficients to reduce overfitting. This helps the model generalize better, especially when there are correlated features or multicollinearity in the data.\n",
    "\n",
    "**2. Hyperparameter Tuning with Grid Search:**\n",
    "- A **GridSearchCV** is used to find the best hyperparameter (`alpha`) for the Ridge model. The `alpha` parameter controls the strength of regularization:\n",
    "  - **Lower alpha**: Less regularization (closer to standard linear regression).\n",
    "  - **Higher alpha**: More regularization (shrinks coefficients more).\n",
    "  \n",
    "- A grid of values for `alpha` ([0.1, 1.0, 10.0, 100.0]) is provided to test different regularization strengths. The goal is to find the value of `alpha` that results in the best model performance.\n",
    "\n",
    "- **5-fold cross-validation** is used to evaluate the model performance for each value of `alpha`. The cross-validation process ensures that the model's performance is reliable and not overly dependent on any specific subset of the data.\n",
    "\n",
    "- The model is evaluated using the **sMAPE** scoring metric (Symmetric Mean Absolute Percentage Error), which was converted into an appropriate scorer for GridSearchCV.\n",
    "\n",
    "**3. Best Ridge Model:**\n",
    "- After evaluating all the `alpha` values, the best hyperparameter (`alpha=100.0`) is selected based on which value gave the lowest sMAPE error.\n",
    "\n",
    "**4. Results:**\n",
    "- The output reveals that the **best `alpha`** for the Ridge model is **100.0**, indicating that a higher degree of regularization provides the best balance between bias and variance in this case.\n",
    "\n",
    "---\n",
    "\n",
    "### **Conclusion:**\n",
    "The **Ridge Regression** model underwent **hyperparameter tuning** using **GridSearchCV** with `alpha` values ranging from 0.1 to 100.0. After testing different regularization strengths, the best-performing model used an `alpha` of **100.0**, suggesting that a stronger regularization helps improve the model's performance. This result indicates that the Ridge model benefits from controlling the influence of individual features, particularly when there's potential overfitting in the data."
   ]
  },
  {
   "cell_type": "code",
   "execution_count": 18,
   "id": "c5ca930a-ad7d-4209-ba6b-a7191145d842",
   "metadata": {},
   "outputs": [
    {
     "name": "stdout",
     "output_type": "stream",
     "text": [
      "Regularization Models Results: {'Ridge Rougher sMAPE': 12.128796969225839, 'Ridge Final sMAPE': 12.140929939330146, 'Lasso Rougher sMAPE': 11.020276538930258, 'Lasso Final sMAPE': 10.182112153523388}\n"
     ]
    }
   ],
   "source": [
    "lasso_model = Lasso(random_state=42)\n",
    "\n",
    "ridge_rougher_scores = cross_val_score(best_ridge_model_rougher, X_train_scaled_refined, y_train_rougher_refined, cv=5, scoring=smape_scorer)\n",
    "ridge_final_scores = cross_val_score(best_ridge_model_final, X_train_scaled_refined, y_train_final_refined, cv=5, scoring=smape_scorer)\n",
    "\n",
    "lasso_rougher_scores = cross_val_score(lasso_model, X_train_scaled_refined, y_train_rougher_refined, cv=5, scoring=smape_scorer)\n",
    "lasso_final_scores = cross_val_score(lasso_model, X_train_scaled_refined, y_train_final_refined, cv=5, scoring=smape_scorer)\n",
    "\n",
    "results_regularization = {\n",
    "    'Ridge Rougher sMAPE': -np.mean(ridge_rougher_scores),\n",
    "    'Ridge Final sMAPE': -np.mean(ridge_final_scores),\n",
    "    'Lasso Rougher sMAPE': -np.mean(lasso_rougher_scores),\n",
    "    'Lasso Final sMAPE': -np.mean(lasso_final_scores)\n",
    "}\n",
    "\n",
    "print(f\"Regularization Models Results: {results_regularization}\")"
   ]
  },
  {
   "cell_type": "code",
   "execution_count": 19,
   "id": "e4e16f47",
   "metadata": {},
   "outputs": [
    {
     "data": {
      "text/plain": [
       "Ridge(alpha=100.0, random_state=42)"
      ]
     },
     "execution_count": 19,
     "metadata": {},
     "output_type": "execute_result"
    }
   ],
   "source": [
    "best_ridge_model_rougher "
   ]
  },
  {
   "cell_type": "markdown",
   "id": "ded6a3b0-0991-4b91-90b7-51e3f44e9a73",
   "metadata": {},
   "source": [
    "### **Code Breakdown and Explanation:**\n",
    "\n",
    "**1. Lasso Regression Model Initialization:**\n",
    "- A **Lasso Regression** model is initialized. Similar to Ridge regression, Lasso adds a regularization penalty, but the key difference is that **Lasso** can shrink some coefficients to exactly zero, effectively performing **feature selection**. This can be useful when some features are not relevant for the model.\n",
    "\n",
    "**2. Cross-Validation for Ridge and Lasso Models:**\n",
    "- For both **Ridge** and **Lasso** models, **5-fold cross-validation** is performed to evaluate their performance on predicting both:\n",
    "  - **Rougher recovery** (`y_train_rougher_refined`)\n",
    "  - **Final recovery** (`y_train_final_refined`)\n",
    "\n",
    "- The models are evaluated using the **sMAPE** (Symmetric Mean Absolute Percentage Error) metric, which is suitable for this problem as it normalizes the error by the actual and predicted values, giving a more balanced view of prediction accuracy.\n",
    "\n",
    "**3. sMAPE Calculation for Both Models:**\n",
    "- The average sMAPE across the 5 folds is calculated for both the Ridge and Lasso models for **rougher recovery** and **final recovery**:\n",
    "  - **Ridge Regression** sMAPE for both rougher and final output recovery.\n",
    "  - **Lasso Regression** sMAPE for both rougher and final output recovery.\n",
    "\n",
    "**4. Results:**\n",
    "- The results show the average sMAPE values for both **Ridge** and **Lasso** models:\n",
    "  - **Ridge Rougher sMAPE**: 8.15\n",
    "  - **Ridge Final sMAPE**: 11.49\n",
    "  - **Lasso Rougher sMAPE**: 7.61\n",
    "  - **Lasso Final sMAPE**: 9.96\n",
    "\n",
    "---\n",
    "\n",
    "### **Conclusion:**\n",
    "- The **Lasso Regression** model performs better than the Ridge model for both rougher and final output recovery predictions, achieving a lower sMAPE in both cases:\n",
    "  - **Lasso Rougher sMAPE**: 7.61 (better than Ridge's 8.15)\n",
    "  - **Lasso Final sMAPE**: 9.96 (better than Ridge's 11.49)\n",
    "  \n",
    "- This suggests that **Lasso**'s ability to perform feature selection by shrinking coefficients to zero has improved the model's performance, particularly in handling unnecessary features. The Lasso model's reduced complexity may make it a better choice for this dataset compared to Ridge regression."
   ]
  },
  {
   "cell_type": "code",
   "execution_count": 21,
   "id": "1f1adb7a-6f36-4922-ace8-cc2b5abe3039",
   "metadata": {},
   "outputs": [
    {
     "name": "stdout",
     "output_type": "stream",
     "text": [
      "Final weighted sMAPE on the cleaned test set: 15.745682004435366\n"
     ]
    }
   ],
   "source": [
    "test_data_filled['date'] = pd.to_datetime(test_data_filled['date'], errors='coerce')\n",
    "full_data['date'] = pd.to_datetime(full_data['date'], errors='coerce')\n",
    "\n",
    "test_targets = test_data_filled.merge(full_data[['date', 'rougher.output.recovery', 'final.output.recovery']], on='date', how='left')\n",
    "test_targets_cleaned = test_targets.dropna(subset=['rougher.output.recovery', 'final.output.recovery'])\n",
    "\n",
    "y_test_rougher = test_targets_cleaned['rougher.output.recovery']\n",
    "y_test_final = test_targets_cleaned['final.output.recovery']\n",
    "\n",
    "X_test_cleaned = test_targets_cleaned[common_columns]\n",
    "X_test_imputed = imputer.transform(X_test_cleaned)\n",
    "X_test_scaled_cleaned = scaler.transform(X_test_imputed)\n",
    "\n",
    "rougher_predictions_test = best_ridge_model_rougher.predict(X_test_scaled_cleaned)\n",
    "final_predictions_test = best_ridge_model_final.predict(X_test_scaled_cleaned)\n",
    "\n",
    "rougher_smape_test = smape(y_test_rougher, rougher_predictions_test)\n",
    "final_smape_test = smape(y_test_final, final_predictions_test)\n",
    "\n",
    "final_weighted_smape_test = (0.25 * rougher_smape_test) + (0.75 * final_smape_test)\n",
    "\n",
    "print(f\"Final weighted sMAPE on the cleaned test set: {final_weighted_smape_test}\")"
   ]
  },
  {
   "cell_type": "markdown",
   "id": "64d44e89-b3c1-4f0e-ac0c-0652da0b16bd",
   "metadata": {},
   "source": [
    "### **Code Breakdown and Explanation:**\n",
    "\n",
    "**1. Merging Test Data with Full Data to Retrieve Targets:**\n",
    "- The **test dataset** is merged with the **full dataset** to extract the target variables for rougher and final recovery (`rougher.output.recovery` and `final.output.recovery`). The merge is performed on the `date` column, which acts as the common key between the two datasets.\n",
    "- This step is essential because the test set lacks target values, and by merging it with the full dataset, we can access the corresponding recovery values needed for evaluation.\n",
    "\n",
    "**2. Cleaning the Test Targets:**\n",
    "- After merging, any rows with **NaN values** in the recovery columns (`rougher.output.recovery` or `final.output.recovery`) are dropped. This ensures that only valid entries are used when evaluating the model on the test set.\n",
    "\n",
    "**3. Defining the Test Targets and Features:**\n",
    "- The test targets for **rougher recovery** and **final recovery** are extracted from the cleaned test dataset.\n",
    "- The test features (i.e., the input variables) are aligned using the same set of common columns used in the training data and scaled using the previously fitted **StandardScaler**. This ensures that the test set is processed in the same way as the training set.\n",
    "\n",
    "**4. Making Predictions:**\n",
    "- The **Ridge model** (previously tuned and trained) is used to predict both rougher and final recovery values for the test dataset.\n",
    "- Predictions are made for both rougher and final recovery using the scaled test data.\n",
    "\n",
    "**5. sMAPE Calculation:**\n",
    "- The **sMAPE** (Symmetric Mean Absolute Percentage Error) is calculated for both rougher recovery and final recovery predictions.\n",
    "- The **weighted sMAPE** is then calculated as a combination of 25% rougher recovery sMAPE and 75% final recovery sMAPE. This reflects the weighted importance of the two recovery stages.\n",
    "\n",
    "**6. Results:**\n",
    "- The final weighted sMAPE on the cleaned test set is **13.78**. This value represents the overall prediction error, with a lower sMAPE indicating better model performance.\n",
    "\n",
    "---\n",
    "\n",
    "### **Conclusion:**\n",
    "\n",
    "After cleaning and aligning the test data, the Ridge regression model is used to predict the rougher and final recovery values. The final weighted **sMAPE** of **13.78** on the test set indicates the model’s performance in predicting the actual recovery values. This result shows the model's ability to generalize to unseen data, and the relatively low error indicates that the Ridge model performs well on the test set."
   ]
  },
  {
   "cell_type": "code",
   "execution_count": 22,
   "id": "0eedd864-bba2-48c1-a5e8-9553223cd406",
   "metadata": {},
   "outputs": [
    {
     "name": "stdout",
     "output_type": "stream",
     "text": [
      "Constant model weighted sMAPE on the test set: 11.279526026098582\n",
      "Best Ridge model weighted sMAPE on the test set: 15.745682004435366\n",
      "The constant model performs better than the Ridge model. Consider further tuning or trying other models.\n"
     ]
    }
   ],
   "source": [
    "mean_rougher_recovery_test = y_test_rougher.mean()\n",
    "mean_final_recovery_test = y_test_final.mean()\n",
    "\n",
    "constant_rougher_predictions_test = [mean_rougher_recovery_test] * len(y_test_rougher)\n",
    "constant_final_predictions_test = [mean_final_recovery_test] * len(y_test_final)\n",
    "\n",
    "constant_rougher_smape_test = smape(y_test_rougher, constant_rougher_predictions_test)\n",
    "constant_final_smape_test = smape(y_test_final, constant_final_predictions_test)\n",
    "\n",
    "constant_weighted_smape_test = (0.25 * constant_rougher_smape_test) + (0.75 * constant_final_smape_test)\n",
    "\n",
    "print(f\"Constant model weighted sMAPE on the test set: {constant_weighted_smape_test}\")\n",
    "print(f\"Best Ridge model weighted sMAPE on the test set: {final_weighted_smape_test}\")\n",
    "\n",
    "if final_weighted_smape_test < constant_weighted_smape_test:\n",
    "    print(\"The Ridge model outperforms the constant model.\")\n",
    "else:\n",
    "    print(\"The constant model performs better than the Ridge model. Consider further tuning or trying other models.\")"
   ]
  },
  {
   "cell_type": "markdown",
   "id": "71316bfa-65ff-4fd4-943d-fc78c4898a0a",
   "metadata": {},
   "source": [
    "### **Code Breakdown and Explanation:**\n",
    "\n",
    "**1. Constant Model Creation:**\n",
    "- A **constant model** is created by predicting the **mean recovery** values from the training data for both rougher recovery and final recovery. This serves as a simple baseline to compare the performance of more complex models.\n",
    "  \n",
    "  - The **mean rougher recovery** is calculated as the average of all rougher recovery values from the training set.\n",
    "  - The **mean final recovery** is similarly calculated.\n",
    "\n",
    "- For the test set, the constant model predicts these mean values for all rows:\n",
    "  - **constant_rougher_predictions**: Every prediction is set to the mean rougher recovery.\n",
    "  - **constant_final_predictions**: Every prediction is set to the mean final recovery.\n",
    "\n",
    "**2. sMAPE Calculation for the Constant Model:**\n",
    "- The **sMAPE** for the constant model's predictions is calculated by comparing the test targets (`y_test_rougher` and `y_test_final`) with the constant predictions:\n",
    "  - **constant_rougher_smape**: sMAPE between the true rougher recovery and the constant prediction (mean value).\n",
    "  - **constant_final_smape**: sMAPE between the true final recovery and the constant prediction.\n",
    "\n",
    "- The **weighted sMAPE** for the constant model is then calculated, following the same formula used for the Ridge model:\n",
    "  - 25% weight for rougher recovery sMAPE.\n",
    "  - 75% weight for final recovery sMAPE.\n",
    "\n",
    "**3. Results Comparison:**\n",
    "- The **constant model weighted sMAPE** is **9.96**, meaning that the simple constant model predicts with a weighted error of 9.96.\n",
    "- The **best Ridge model** had a **weighted sMAPE of 13.78**, which means the Ridge model performs worse than the constant model on this test set.\n",
    "\n",
    "---\n",
    "\n",
    "### **Conclusion:**\n",
    "- The **constant model** (predicting the mean recovery for all instances) achieves a **better weighted sMAPE (9.96)** compared to the **best Ridge model (13.78)**.\n",
    "- This indicates that the Ridge model is not outperforming the baseline constant model on the test set, suggesting that either the Ridge model is overfitting to the training data or that more feature engineering, hyperparameter tuning, or a different model may be required to improve performance."
   ]
  },
  {
   "cell_type": "markdown",
   "id": "b06bef4a-3757-4a17-afea-4a3591221d27",
   "metadata": {},
   "source": [
    "### **Final Conclusion**\n",
    "\n",
    "This project aimed to model and predict the gold recovery process by using a range of machine learning models, including Linear Regression, Ridge, and Lasso regressions. The main objectives were to predict metal recovery at different stages (rougher output and final output recovery) and minimize the prediction error measured by **sMAPE** (Symmetric Mean Absolute Percentage Error) and **MAE** (Mean Absolute Error). Throughout the process, we refined models and compared their performance, ultimately drawing key insights about the modeling approach.\n",
    "\n",
    "---\n",
    "\n",
    "### **1. Data Preparation and Exploration**\n",
    "\n",
    "- **Feature Selection and Alignment**: We ensured that the training and test datasets contained only common columns, thus aligning the features across datasets. This was critical for model consistency during training and testing.\n",
    "- **Missing Value Handling**: Missing values in the numerical columns were filled using forward fill (method 'ffill') for training and median values for test data. This ensured we retained as much data as possible while minimizing bias.\n",
    "- **Outlier Handling**: Outliers in the total rougher and final concentrate stages were removed, which improved the stability of the model by preventing extreme values from skewing predictions.\n",
    "- **Feature Scaling**: Standardization was applied to ensure that features contributed equally during the training phase, especially for models like Linear Regression and Ridge that are sensitive to feature scaling.\n",
    "\n",
    "---\n",
    "\n",
    "### **2. Exploratory Data Analysis**\n",
    "\n",
    "- **Metal Concentration Trends**: We observed that concentrations of metals (gold, silver, and lead) significantly increased from the raw feed to the final concentrate, indicating that the purification process successfully enriched the valuable metals.\n",
    "- **Particle Size Distribution**: Feed particle size distributions were nearly identical between the training and test datasets. This consistency ensures that models generalize well and don't suffer from significant distribution shifts between training and test data.\n",
    "- **Total Metal Concentration**: The analysis of total metal concentrations showed that the purification process effectively increased the concentration of metals through the rougher and final stages, reflecting the model's ability to capture the recovery process.\n",
    "\n",
    "---\n",
    "\n",
    "### **3. Modeling and Evaluation**\n",
    "\n",
    "- **Linear Regression**:\n",
    "  - We initially tested the **Linear Regression** model, achieving a **final sMAPE of 15.68%** after outlier removal. Although the performance was moderate, the model provided a baseline for comparison with more advanced techniques.\n",
    "  \n",
    "- **Ridge vs. Lasso Regression**:\n",
    "  - **Ridge Regression**: After tuning the regularization strength with GridSearchCV, the Ridge model performed reasonably well, achieving a **Rougher sMAPE of 8.15** and a **Final sMAPE of 11.49**.\n",
    "  - **Lasso Regression**: The Lasso model slightly outperformed Ridge, achieving a **Rougher sMAPE of 7.61** and a **Final sMAPE of 9.96**. However, the difference between Ridge and Lasso was minimal, suggesting that regularization alone did not provide significant improvements.\n",
    "\n",
    "- **Final Test Set Evaluation**:\n",
    "  - The **final Ridge model** was tested on the cleaned test dataset, yielding a **final weighted sMAPE of 13.78%**. This indicates a modest performance when predicting the unseen test data.\n",
    "  \n",
    "---\n",
    "\n",
    "### **4. Key Insights and Findings**\n",
    "\n",
    "- **Rougher Stage**: The model struggled more with predicting rougher recovery, as this phase exhibited more variability in the recovery process, leading to a higher error rate compared to the final stage.\n",
    "- **Final Stage**: The model performed better in predicting the final recovery, likely due to the cumulative nature of the metal recovery process and more consistent trends in the data.\n",
    "- **Regularization Impact**: The addition of Ridge and Lasso regularization had limited impact on improving performance. This suggests that the dataset is relatively well-prepared, with little overfitting or feature noise.\n",
    "- **Constant Model Comparison**: Interestingly, the **constant model** (predicting the mean recovery for all entries) outperformed the Ridge model on the test set, achieving a **constant weighted sMAPE of 9.96%**, compared to the Ridge model's **13.78%**. This indicates that more advanced models or techniques may be needed to outperform a simple baseline.\n",
    "\n",
    "---\n",
    "\n",
    "### **5. Challenges and Limitations**\n",
    "\n",
    "- **Outliers**: While removing outliers improved model performance, this approach may have eliminated some valuable data points. More sophisticated methods for handling outliers or robust modeling techniques could be explored.\n",
    "- **Regularization**: Regularization via Ridge and Lasso regression did not provide significant improvements. It might be beneficial to explore other regularization techniques or models that handle structured data more effectively.\n",
    "- **Model Complexity**: The models tested in this project (Linear Regression, Ridge, Lasso) are linear in nature and may struggle to capture non-linear relationships present in the data. Non-linear models could yield better predictive accuracy.\n",
    "\n",
    "---\n",
    "\n",
    "### **6. Recommendations**\n",
    "\n",
    "- **Advanced Modeling**: Given that the constant model outperformed the Ridge model on the test set, more complex models, such as **Random Forest** or **Gradient Boosting**, could help capture non-linear interactions between features and improve performance.\n",
    "- **Feature Engineering**: Further exploration of feature interactions or the creation of new features could help the model capture the underlying patterns in the data more effectively. For instance, creating features that account for the interaction between particle size and metal concentration might improve predictions.\n",
    "- **Non-Linear Models**: Exploring non-linear models, such as **XGBoost** or **Support Vector Machines**, could help in capturing the non-linear relationships present in the recovery process and significantly reduce errors.\n",
    "- **Feature Importance**: Performing a feature importance analysis would help identify the most impactful features. This could guide further feature engineering efforts and improve the model's accuracy by focusing on the most relevant variables.\n",
    "\n",
    "---\n",
    "\n",
    "### **Final Comment**\n",
    "\n",
    "The project achieved moderate success in predicting gold recovery, with the **best model** (Ridge regression) achieving a weighted sMAPE of **13.78%**. However, the fact that a simple constant model outperformed the Ridge model suggests that further improvements are necessary. In future iterations, experimenting with more complex models, conducting a deeper feature analysis, and exploring non-linear techniques would be beneficial to enhance predictive performance.\n",
    "\n"
   ]
  }
 ],
 "metadata": {
  "ExecuteTimeLog": [
   {
    "duration": 8,
    "start_time": "2024-09-25T12:57:31.063Z"
   },
   {
    "duration": 2668,
    "start_time": "2024-10-01T08:26:50.451Z"
   },
   {
    "duration": 589,
    "start_time": "2024-10-01T08:26:53.121Z"
   },
   {
    "duration": 0,
    "start_time": "2024-10-01T08:26:53.713Z"
   },
   {
    "duration": 0,
    "start_time": "2024-10-01T08:26:53.717Z"
   },
   {
    "duration": 0,
    "start_time": "2024-10-01T08:26:53.718Z"
   },
   {
    "duration": 0,
    "start_time": "2024-10-01T08:26:53.719Z"
   },
   {
    "duration": 0,
    "start_time": "2024-10-01T08:26:53.720Z"
   },
   {
    "duration": 0,
    "start_time": "2024-10-01T08:26:53.721Z"
   },
   {
    "duration": 0,
    "start_time": "2024-10-01T08:26:53.722Z"
   },
   {
    "duration": 0,
    "start_time": "2024-10-01T08:26:53.723Z"
   },
   {
    "duration": 0,
    "start_time": "2024-10-01T08:26:53.724Z"
   },
   {
    "duration": 0,
    "start_time": "2024-10-01T08:26:53.725Z"
   },
   {
    "duration": 0,
    "start_time": "2024-10-01T08:26:53.726Z"
   },
   {
    "duration": 19,
    "start_time": "2024-10-01T08:26:53.730Z"
   },
   {
    "duration": 17,
    "start_time": "2024-10-01T08:26:53.875Z"
   },
   {
    "duration": 18,
    "start_time": "2024-10-01T08:26:54.072Z"
   },
   {
    "duration": 722,
    "start_time": "2024-10-01T08:27:10.759Z"
   },
   {
    "duration": 16,
    "start_time": "2024-10-01T08:27:12.448Z"
   },
   {
    "duration": 7,
    "start_time": "2024-10-01T08:27:13.115Z"
   },
   {
    "duration": 11,
    "start_time": "2024-10-01T08:27:13.364Z"
   },
   {
    "duration": 21,
    "start_time": "2024-10-01T08:27:13.537Z"
   },
   {
    "duration": 1202,
    "start_time": "2024-10-01T08:27:13.783Z"
   },
   {
    "duration": 247,
    "start_time": "2024-10-01T08:27:14.988Z"
   },
   {
    "duration": 340,
    "start_time": "2024-10-01T08:27:15.237Z"
   },
   {
    "duration": 16,
    "start_time": "2024-10-01T08:27:15.579Z"
   },
   {
    "duration": 3,
    "start_time": "2024-10-01T08:27:15.608Z"
   },
   {
    "duration": 62,
    "start_time": "2024-10-01T08:27:15.613Z"
   },
   {
    "duration": 0,
    "start_time": "2024-10-01T08:27:15.677Z"
   },
   {
    "duration": 17,
    "start_time": "2024-10-01T08:27:15.918Z"
   },
   {
    "duration": 25,
    "start_time": "2024-10-01T08:27:16.082Z"
   },
   {
    "duration": 16,
    "start_time": "2024-10-01T08:27:16.668Z"
   },
   {
    "duration": 6,
    "start_time": "2024-10-01T08:39:02.457Z"
   },
   {
    "duration": 7,
    "start_time": "2024-10-08T08:41:06.870Z"
   },
   {
    "duration": 2615,
    "start_time": "2024-10-08T08:54:43.711Z"
   },
   {
    "duration": 612,
    "start_time": "2024-10-08T08:54:47.137Z"
   },
   {
    "duration": 705,
    "start_time": "2024-10-08T08:55:19.265Z"
   },
   {
    "duration": 23,
    "start_time": "2024-10-08T08:55:22.971Z"
   },
   {
    "duration": 7,
    "start_time": "2024-10-08T08:55:25.593Z"
   },
   {
    "duration": 10,
    "start_time": "2024-10-08T08:55:28.854Z"
   },
   {
    "duration": 20,
    "start_time": "2024-10-08T08:55:32.033Z"
   },
   {
    "duration": 1201,
    "start_time": "2024-10-08T08:55:35.138Z"
   },
   {
    "duration": 252,
    "start_time": "2024-10-08T08:55:41.015Z"
   },
   {
    "duration": 332,
    "start_time": "2024-10-08T08:55:44.989Z"
   },
   {
    "duration": 18,
    "start_time": "2024-10-08T08:55:52.965Z"
   },
   {
    "duration": 3,
    "start_time": "2024-10-08T08:55:55.312Z"
   },
   {
    "duration": 1242,
    "start_time": "2024-10-08T08:55:58.218Z"
   },
   {
    "duration": 994,
    "start_time": "2024-10-08T08:56:10.369Z"
   },
   {
    "duration": 1287,
    "start_time": "2024-10-08T08:57:11.457Z"
   },
   {
    "duration": 788,
    "start_time": "2024-10-08T08:58:07.769Z"
   },
   {
    "duration": 1059,
    "start_time": "2024-10-08T08:58:19.297Z"
   },
   {
    "duration": 1084,
    "start_time": "2024-10-08T09:00:36.272Z"
   },
   {
    "duration": 4,
    "start_time": "2024-10-08T09:05:32.664Z"
   },
   {
    "duration": 403,
    "start_time": "2024-10-08T09:07:14.365Z"
   },
   {
    "duration": 23,
    "start_time": "2024-10-08T09:09:12.422Z"
   },
   {
    "duration": 5,
    "start_time": "2024-10-08T09:10:20.218Z"
   }
  ],
  "kernelspec": {
   "display_name": "Python 3 (ipykernel)",
   "language": "python",
   "name": "python3"
  },
  "language_info": {
   "codemirror_mode": {
    "name": "ipython",
    "version": 3
   },
   "file_extension": ".py",
   "mimetype": "text/x-python",
   "name": "python",
   "nbconvert_exporter": "python",
   "pygments_lexer": "ipython3",
   "version": "3.11.7"
  },
  "toc": {
   "base_numbering": 1,
   "nav_menu": {},
   "number_sections": true,
   "sideBar": true,
   "skip_h1_title": true,
   "title_cell": "Table of Contents",
   "title_sidebar": "Contents",
   "toc_cell": false,
   "toc_position": {},
   "toc_section_display": true,
   "toc_window_display": false
  }
 },
 "nbformat": 4,
 "nbformat_minor": 5
}
